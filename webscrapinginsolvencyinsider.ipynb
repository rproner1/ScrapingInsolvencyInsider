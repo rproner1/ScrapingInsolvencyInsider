{
 "cells": [
  {
   "cell_type": "markdown",
   "metadata": {},
   "source": [
    "# Web Scraping Insolvency Insider"
   ]
  },
  {
   "cell_type": "code",
   "execution_count": 1,
   "metadata": {},
   "outputs": [],
   "source": [
    "from selenium import webdriver\n",
    "import urllib3\n",
    "import re\n",
    "import time\n",
    "import pandas as pd"
   ]
  },
  {
   "cell_type": "code",
   "execution_count": 2,
   "metadata": {},
   "outputs": [],
   "source": [
    "# Create driver object. Opens browser window.\n",
    "executablePath = \"C:/Users/Robpr/OneDrive/Documents/chromedriver.exe\"\n",
    "driver = webdriver.Chrome(executable_path=executablePath)"
   ]
  },
  {
   "cell_type": "code",
   "execution_count": 3,
   "metadata": {},
   "outputs": [],
   "source": [
    "# Navigates browser to insolvency insider.\n",
    "driver.get(\"https://insolvencyinsider.ca/filing/\")"
   ]
  },
  {
   "cell_type": "code",
   "execution_count": 4,
   "metadata": {},
   "outputs": [],
   "source": [
    "# Creates \"load more\" button object.\n",
    "loadMore = driver.find_element_by_xpath(xpath=\"/html/body/div[2]/div/main/div/div/div/button\")"
   ]
  },
  {
   "cell_type": "code",
   "execution_count": 5,
   "metadata": {},
   "outputs": [],
   "source": [
    "url = \"https://insolvencyinsider.ca/filing/\"\n",
    "http = urllib3.PoolManager()\n",
    "r = http.request(\"GET\", url)\n",
    "text = str(r.data)"
   ]
  },
  {
   "cell_type": "code",
   "execution_count": 9,
   "metadata": {},
   "outputs": [],
   "source": [
    "totalPagesObj = re.search(pattern='\"total_pages\":\\d+', string=text)\n",
    "\n",
    "totalPagesStr = totalPagesObj.group(0)\n",
    "\n",
    "totalPages = int((re.search(pattern=\"\\d+\", string=totalPagesStr)).group(0))"
   ]
  },
  {
   "cell_type": "code",
   "execution_count": 11,
   "metadata": {},
   "outputs": [
    {
     "data": {
      "text/plain": [
       "'\"total_pages\":76'"
      ]
     },
     "execution_count": 11,
     "metadata": {},
     "output_type": "execute_result"
    }
   ],
   "source": [
    "totalPagesStr"
   ]
  },
  {
   "cell_type": "code",
   "execution_count": 10,
   "metadata": {},
   "outputs": [
    {
     "name": "stdout",
     "output_type": "stream",
     "text": [
      "76\n"
     ]
    }
   ],
   "source": [
    "print(totalPages)"
   ]
  },
  {
   "cell_type": "code",
   "execution_count": 12,
   "metadata": {},
   "outputs": [],
   "source": [
    "# Clicks the Load more button (total pages - 1) times with a three second delay.\n",
    "for i in range(totalPages-1):\n",
    "    loadMore.click()\n",
    "    time.sleep(3)"
   ]
  },
  {
   "cell_type": "code",
   "execution_count": 13,
   "metadata": {},
   "outputs": [],
   "source": [
    "# Creates a list of filing name elements and a list of filing date elements.\n",
    "filingNamesElements = driver.find_elements_by_class_name(\"filing-name\")\n",
    "filingDateElements = driver.find_elements_by_class_name(\"filing-date\")\n",
    "filingHrefElements = driver.find_elements_by_xpath(\"//*[@id='content']/div[2]/div/div[1]/h3/a\")"
   ]
  },
  {
   "cell_type": "code",
   "execution_count": 15,
   "metadata": {},
   "outputs": [],
   "source": [
    "filingMetas = []\n",
    "for i in range(len(filingNamesElements) + 1):\n",
    "    filingMetai = driver.find_elements_by_xpath((\"//*[@id='content']/div[2]/div[%d]/div[2]/div[1]\" %(i)))\n",
    "    for element in filingMetai:\n",
    "        filingMetaTexti = element.text\n",
    "        filingMetas.append(filingMetaTexti)"
   ]
  },
  {
   "cell_type": "code",
   "execution_count": 16,
   "metadata": {},
   "outputs": [],
   "source": [
    "metaDict = {\"Filing Type\": [], \"Industry\": [], \"Province\": []}\n",
    "\n",
    "for filing in filingMetas:\n",
    "    filingSplit = filing.split(\"\\n\")\n",
    "    \n",
    "    for item in filingSplit:\n",
    "        itemSplit = item.split(\": \")\n",
    "        \n",
    "        if itemSplit[0] == \"Filing Type\":\n",
    "            metaDict[\"Filing Type\"].append(itemSplit[1])\n",
    "        elif itemSplit[0] == \"Industry\":\n",
    "            metaDict[\"Industry\"].append(itemSplit[1])\n",
    "        elif itemSplit[0] == \"Province\":\n",
    "            metaDict[\"Province\"].append(itemSplit[1])\n",
    "            \n",
    "    if \"Filing Type\" not in filing:\n",
    "        metaDict[\"Filing Type\"].append(\"NA\")\n",
    "    elif \"Industry\" not in filing:\n",
    "        metaDict[\"Industry\"].append(\"NA\")\n",
    "    elif \"Province\" not in filing:\n",
    "        metaDict[\"Province\"].append(\"NA\")"
   ]
  },
  {
   "cell_type": "code",
   "execution_count": 17,
   "metadata": {},
   "outputs": [
    {
     "name": "stdout",
     "output_type": "stream",
     "text": [
      "751\n",
      "751\n",
      "751\n"
     ]
    }
   ],
   "source": [
    "for key in metaDict:\n",
    "    print(len(metaDict[key]))"
   ]
  },
  {
   "cell_type": "code",
   "execution_count": 14,
   "metadata": {},
   "outputs": [],
   "source": [
    "# # Creates a list of all p elements.\n",
    "# filingTypeElements = driver.find_elements_by_xpath(\"//p\")\n",
    "\n",
    "# # Initiates a dictonary to store filing meta data.\n",
    "# metaDict = {\"Filing Type\": [], \"Trustee\": [], \"Industry\": [], \"Province\": []}"
   ]
  },
  {
   "cell_type": "code",
   "execution_count": 15,
   "metadata": {},
   "outputs": [],
   "source": [
    "# filingMetaElements = driver.find_elements_by_class_name(\"filing-meta\")\n",
    "\n",
    "# for element in filingMetaElements:\n",
    "#     print(element.text)"
   ]
  },
  {
   "cell_type": "code",
   "execution_count": 16,
   "metadata": {},
   "outputs": [],
   "source": [
    "# # For each element in the list of all p elements, splits the element on \": \" and if the split element has length greater than\n",
    "# # zero (to avoid index out of range error), then allocate the element text to the appropriate key in the meta data dictionary. \n",
    "# for element in filingTypeElements:\n",
    "    \n",
    "#     splitElement = element.text.split(\": \")\n",
    "    \n",
    "#     if len(splitElement) > 0:\n",
    "#         if splitElement[0] == \"Filing Type\":\n",
    "#             metaDict[\"Filing Type\"].append(splitElement[1])\n",
    "            \n",
    "#         elif splitElement[0] == \"Trustee\":\n",
    "#             metaDict[\"Trustee\"].append(splitElement[1])\n",
    "        \n",
    "#         elif splitElement[0] == \"Applicant\":\n",
    "#             metaDict[\"Applicant\"].append(splitElement[1])\n",
    "        \n",
    "#         elif splitElement[0] == \"Applicant Counsel\":\n",
    "#             metaDict[\"Applicant Counsel\"].append(splitElement[1])\n",
    "        \n",
    "#         elif splitElement[0] == \"Industry\":\n",
    "#             metaDict[\"Industry\"].append(splitElement[1])\n",
    "        \n",
    "#         elif splitElement[0] == \"Province\":\n",
    "#             metaDict[\"Province\"].append(splitElement[1])\n",
    "\n",
    "# metaDict"
   ]
  },
  {
   "cell_type": "code",
   "execution_count": 18,
   "metadata": {},
   "outputs": [],
   "source": [
    "# Initiates a list for filing names and a list for filing dates.\n",
    "filingName = []\n",
    "filingDate = []\n",
    "filingLink = []\n",
    "\n",
    "# for each element in filing name elements list, appends the element's text to the filing names list.\n",
    "for element in filingNamesElements:\n",
    "    filingName.append(element.text)\n",
    "\n",
    "# for each element in filing date elements list, appends the element's text to the filing dates list.\n",
    "for element in filingDateElements:\n",
    "    filingDate.append(element.text)\n",
    "    \n",
    "for link in filingHrefElements:\n",
    "    if link.get_attribute(\"href\"):\n",
    "        filingLink.append(link.get_attribute(\"href\"))"
   ]
  },
  {
   "cell_type": "code",
   "execution_count": 27,
   "metadata": {},
   "outputs": [
    {
     "name": "stdout",
     "output_type": "stream",
     "text": [
      "7.49 s ± 130 ms per loop (mean ± std. dev. of 7 runs, 1 loop each)\n"
     ]
    }
   ],
   "source": [
    "%timeit filingName = [element.text for element in filingNamesElements]\n",
    "filingDate = [element.text for element in filingDateElements]\n",
    "filingLink = [element.text for element in filingHrefElements]"
   ]
  },
  {
   "cell_type": "code",
   "execution_count": 18,
   "metadata": {},
   "outputs": [
    {
     "data": {
      "text/plain": [
       "743"
      ]
     },
     "execution_count": 18,
     "metadata": {},
     "output_type": "execute_result"
    }
   ],
   "source": [
    "len(filingLink)"
   ]
  },
  {
   "cell_type": "code",
   "execution_count": 20,
   "metadata": {},
   "outputs": [],
   "source": [
    "# Creates a final dictionary with filing names and dates.\n",
    "fullDict = {\n",
    "    \"Filing Name\": filingName,\n",
    "    \"Filing Date\": filingDate, \n",
    "    \"Filing Type\": metaDict[\"Filing Type\"],\n",
    "    \"Industry\": metaDict[\"Industry\"],\n",
    "    \"Province\": metaDict[\"Province\"],\n",
    "    \"Link\": filingLink\n",
    "}"
   ]
  },
  {
   "cell_type": "code",
   "execution_count": 21,
   "metadata": {},
   "outputs": [
    {
     "name": "stdout",
     "output_type": "stream",
     "text": [
      "751\n",
      "751\n",
      "751\n",
      "751\n",
      "751\n",
      "751\n"
     ]
    }
   ],
   "source": [
    "# Just checking whether lists are all the same length.\n",
    "for key in fullDict:\n",
    "    print(len(fullDict[key]))"
   ]
  },
  {
   "cell_type": "code",
   "execution_count": 23,
   "metadata": {
    "scrolled": true
   },
   "outputs": [
    {
     "data": {
      "text/html": [
       "<div>\n",
       "<style scoped>\n",
       "    .dataframe tbody tr th:only-of-type {\n",
       "        vertical-align: middle;\n",
       "    }\n",
       "\n",
       "    .dataframe tbody tr th {\n",
       "        vertical-align: top;\n",
       "    }\n",
       "\n",
       "    .dataframe thead th {\n",
       "        text-align: right;\n",
       "    }\n",
       "</style>\n",
       "<table border=\"1\" class=\"dataframe\">\n",
       "  <thead>\n",
       "    <tr style=\"text-align: right;\">\n",
       "      <th></th>\n",
       "      <th>Filing Name</th>\n",
       "      <th>Filing Date</th>\n",
       "      <th>Filing Type</th>\n",
       "      <th>Industry</th>\n",
       "      <th>Province</th>\n",
       "      <th>Link</th>\n",
       "    </tr>\n",
       "  </thead>\n",
       "  <tbody>\n",
       "    <tr>\n",
       "      <th>0</th>\n",
       "      <td>Sunrise Acquisitions (Hwy 7) Inc</td>\n",
       "      <td>2021-06-28</td>\n",
       "      <td>Receivership</td>\n",
       "      <td>Real Estate</td>\n",
       "      <td>Ontario</td>\n",
       "      <td>https://insolvencyinsider.ca/filing/sunrise-ac...</td>\n",
       "    </tr>\n",
       "    <tr>\n",
       "      <th>1</th>\n",
       "      <td>Spartan Bioscience Inc.</td>\n",
       "      <td>2021-06-21</td>\n",
       "      <td>CCAA</td>\n",
       "      <td>Healthcare</td>\n",
       "      <td>Ontario</td>\n",
       "      <td>https://insolvencyinsider.ca/filing/spartan-bi...</td>\n",
       "    </tr>\n",
       "    <tr>\n",
       "      <th>2</th>\n",
       "      <td>Alaska – Alberta Railway Development Corporati...</td>\n",
       "      <td>2021-06-18</td>\n",
       "      <td>NOI</td>\n",
       "      <td>Transportation</td>\n",
       "      <td>Alberta</td>\n",
       "      <td>https://insolvencyinsider.ca/filing/alaska-alb...</td>\n",
       "    </tr>\n",
       "    <tr>\n",
       "      <th>3</th>\n",
       "      <td>Nautilus Plus Inc.</td>\n",
       "      <td>2021-06-14</td>\n",
       "      <td>NOI</td>\n",
       "      <td>Other</td>\n",
       "      <td>Quebec</td>\n",
       "      <td>https://insolvencyinsider.ca/filing/nautilus-p...</td>\n",
       "    </tr>\n",
       "    <tr>\n",
       "      <th>4</th>\n",
       "      <td>The Estate of Paul Zigomanis (the “Estate”)</td>\n",
       "      <td>2021-06-10</td>\n",
       "      <td>Bankruptcy</td>\n",
       "      <td>Other</td>\n",
       "      <td>Ontario</td>\n",
       "      <td>https://insolvencyinsider.ca/filing/the-estate...</td>\n",
       "    </tr>\n",
       "    <tr>\n",
       "      <th>...</th>\n",
       "      <td>...</td>\n",
       "      <td>...</td>\n",
       "      <td>...</td>\n",
       "      <td>...</td>\n",
       "      <td>...</td>\n",
       "      <td>...</td>\n",
       "    </tr>\n",
       "    <tr>\n",
       "      <th>746</th>\n",
       "      <td>ReidBuilt</td>\n",
       "      <td>2017-11-02</td>\n",
       "      <td>Receivership</td>\n",
       "      <td>Real Estate</td>\n",
       "      <td>Alberta</td>\n",
       "      <td>https://insolvencyinsider.ca/filing/reidbuilt/</td>\n",
       "    </tr>\n",
       "    <tr>\n",
       "      <th>747</th>\n",
       "      <td>Spareparts</td>\n",
       "      <td>2017-10-31</td>\n",
       "      <td>CCAA</td>\n",
       "      <td>Retail</td>\n",
       "      <td>Alberta</td>\n",
       "      <td>https://insolvencyinsider.ca/filing/spareparts/</td>\n",
       "    </tr>\n",
       "    <tr>\n",
       "      <th>748</th>\n",
       "      <td>BuildDirect</td>\n",
       "      <td>2017-10-31</td>\n",
       "      <td>CCAA</td>\n",
       "      <td>Technology</td>\n",
       "      <td>British Columbia</td>\n",
       "      <td>https://insolvencyinsider.ca/filing/builddirect/</td>\n",
       "    </tr>\n",
       "    <tr>\n",
       "      <th>749</th>\n",
       "      <td>1735549 Ontario</td>\n",
       "      <td>2017-10-27</td>\n",
       "      <td>Receivership</td>\n",
       "      <td>Real Estate</td>\n",
       "      <td>Ontario</td>\n",
       "      <td>https://insolvencyinsider.ca/filing/1735549-on...</td>\n",
       "    </tr>\n",
       "    <tr>\n",
       "      <th>750</th>\n",
       "      <td>2203284 Ontario</td>\n",
       "      <td>2017-06-22</td>\n",
       "      <td>Receivership</td>\n",
       "      <td>Real Estate</td>\n",
       "      <td>Ontario</td>\n",
       "      <td>https://insolvencyinsider.ca/filing/2203284-on...</td>\n",
       "    </tr>\n",
       "  </tbody>\n",
       "</table>\n",
       "<p>751 rows × 6 columns</p>\n",
       "</div>"
      ],
      "text/plain": [
       "                                           Filing Name Filing Date  \\\n",
       "0                     Sunrise Acquisitions (Hwy 7) Inc  2021-06-28   \n",
       "1                              Spartan Bioscience Inc.  2021-06-21   \n",
       "2    Alaska – Alberta Railway Development Corporati...  2021-06-18   \n",
       "3                                   Nautilus Plus Inc.  2021-06-14   \n",
       "4          The Estate of Paul Zigomanis (the “Estate”)  2021-06-10   \n",
       "..                                                 ...         ...   \n",
       "746                                          ReidBuilt  2017-11-02   \n",
       "747                                         Spareparts  2017-10-31   \n",
       "748                                        BuildDirect  2017-10-31   \n",
       "749                                    1735549 Ontario  2017-10-27   \n",
       "750                                    2203284 Ontario  2017-06-22   \n",
       "\n",
       "      Filing Type        Industry          Province  \\\n",
       "0    Receivership     Real Estate           Ontario   \n",
       "1            CCAA      Healthcare           Ontario   \n",
       "2             NOI  Transportation           Alberta   \n",
       "3             NOI           Other            Quebec   \n",
       "4      Bankruptcy           Other           Ontario   \n",
       "..            ...             ...               ...   \n",
       "746  Receivership     Real Estate           Alberta   \n",
       "747          CCAA          Retail           Alberta   \n",
       "748          CCAA      Technology  British Columbia   \n",
       "749  Receivership     Real Estate           Ontario   \n",
       "750  Receivership     Real Estate           Ontario   \n",
       "\n",
       "                                                  Link  \n",
       "0    https://insolvencyinsider.ca/filing/sunrise-ac...  \n",
       "1    https://insolvencyinsider.ca/filing/spartan-bi...  \n",
       "2    https://insolvencyinsider.ca/filing/alaska-alb...  \n",
       "3    https://insolvencyinsider.ca/filing/nautilus-p...  \n",
       "4    https://insolvencyinsider.ca/filing/the-estate...  \n",
       "..                                                 ...  \n",
       "746     https://insolvencyinsider.ca/filing/reidbuilt/  \n",
       "747    https://insolvencyinsider.ca/filing/spareparts/  \n",
       "748   https://insolvencyinsider.ca/filing/builddirect/  \n",
       "749  https://insolvencyinsider.ca/filing/1735549-on...  \n",
       "750  https://insolvencyinsider.ca/filing/2203284-on...  \n",
       "\n",
       "[751 rows x 6 columns]"
      ]
     },
     "execution_count": 23,
     "metadata": {},
     "output_type": "execute_result"
    }
   ],
   "source": [
    "# Creates a data frame.\n",
    "df = pd.DataFrame(fullDict)\n",
    "df[\"Filing Date\"] = pd.to_datetime(df[\"Filing Date\"], infer_datetime_format=True)\n",
    "\n",
    "df"
   ]
  },
  {
   "cell_type": "code",
   "execution_count": 34,
   "metadata": {},
   "outputs": [
    {
     "name": "stdout",
     "output_type": "stream",
     "text": [
      "0     2021-06-08\n",
      "1     2021-06-07\n",
      "2     2021-05-31\n",
      "3     2021-05-27\n",
      "4     2021-05-26\n",
      "         ...    \n",
      "738   2017-11-02\n",
      "739   2017-10-31\n",
      "740   2017-10-31\n",
      "741   2017-10-27\n",
      "742   2017-06-22\n",
      "Name: Filing Date, Length: 743, dtype: datetime64[ns]\n"
     ]
    }
   ],
   "source": [
    "print(df['Filing Date'])"
   ]
  }
 ],
 "metadata": {
  "kernelspec": {
   "display_name": "Python 3",
   "language": "python",
   "name": "python3"
  },
  "language_info": {
   "codemirror_mode": {
    "name": "ipython",
    "version": 3
   },
   "file_extension": ".py",
   "mimetype": "text/x-python",
   "name": "python",
   "nbconvert_exporter": "python",
   "pygments_lexer": "ipython3",
   "version": "3.8.5"
  }
 },
 "nbformat": 4,
 "nbformat_minor": 4
}
